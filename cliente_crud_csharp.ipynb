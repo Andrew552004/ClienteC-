{
 "cells": [
  {
   "cell_type": "markdown",
   "metadata": {},
   "source": [
    "# 🧾 Cliente C# para consumir API CRUD en Flask\n",
    "\n",
    "Este notebook documenta el uso de un **cliente de consola en C#** que consume una API REST creada con **Flask en Python**. El cliente permite realizar todas las operaciones CRUD sobre tareas (crear, leer, actualizar, eliminar)."
   ]
  },
  {
   "cell_type": "markdown",
   "metadata": {},
   "source": [
    "## 🧑‍💻 Requisitos del Cliente en C#\n",
    "\n",
    "1. Tener instalado .NET SDK\n",
    "2. Crear un proyecto:\n",
    "\n",
    "```bash\n",
    "dotnet new console -o ClienteCSharp\n",
    "cd ClienteCSharp\n",
    "```\n",
    "\n",
    "3. Reemplazar el contenido de `Program.cs` con el código del cliente CRUD.\n",
    "4. Ejecutar el cliente:\n",
    "\n",
    "```bash\n",
    "dotnet run\n",
    "```"
   ]
  },
  {
   "cell_type": "markdown",
   "metadata": {},
   "source": [
    "## 🛠️ Funciones del cliente\n",
    "\n",
    "- Ver todas las tareas (`GET /tareas`)\n",
    "- Crear tarea (`POST /tarea`)\n",
    "- Obtener tarea por ID (`GET /tarea/{id}`)\n",
    "- Actualizar tarea (`PUT /tarea/{id}`)\n",
    "- Eliminar tarea (`DELETE /tarea/{id}`)\n",
    "\n",
    "El cliente utiliza `HttpClient` y `System.Text.Json`."
   ]
  },
  {
   "cell_type": "markdown",
   "metadata": {},
   "source": [
    "## 🗓️ Formato de fecha\n",
    "\n",
    "- El campo `fecha` debe ingresarse como `YYYY-MM-DD`.\n",
    "- Ejemplo válido: `2025-07-01`\n",
    "- La API rechazará fechas anteriores a hoy."
   ]
  },
  {
   "cell_type": "markdown",
   "metadata": {},
   "source": [
    "## ✅ Recomendaciones\n",
    "\n",
    "- Asegúrate de que el servidor Flask esté corriendo antes de ejecutar el cliente.\n",
    "- Usa `PowerShell` o `CMD` para ejecutar el proyecto, no Git Bash.\n",
    "- Puedes mejorar el cliente usando clases como `Tarea` y deserializando JSON."
   ]
  }
 ],
 "metadata": {
  "kernelspec": {
   "display_name": "Python 3",
   "language": "python",
   "name": "python3"
  },
  "language_info": {
   "name": "python"
  }
 },
 "nbformat": 4,
 "nbformat_minor": 5
}
